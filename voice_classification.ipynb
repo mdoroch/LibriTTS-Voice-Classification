{
  "cells": [
    {
      "cell_type": "markdown",
      "source": [
        "#Импорт библиотек"
      ],
      "metadata": {
        "id": "jB19F6Kt6wB-"
      }
    },
    {
      "cell_type": "code",
      "source": [
        "import librosa\n",
        "from librosa.feature import melspectrogram\n",
        "from librosa.core import load\n",
        "from librosa.display import specshow\n",
        "from librosa import power_to_db\n",
        "\n",
        "import matplotlib.pyplot as plt"
      ],
      "metadata": {
        "id": "YXUjAfZpJGjW"
      },
      "execution_count": null,
      "outputs": []
    },
    {
      "cell_type": "code",
      "source": [
        "import os\n",
        "from tqdm import tqdm\n",
        "import pickle\n",
        "import pandas as pd\n",
        "import numpy as np\n",
        "import re\n",
        "\n",
        "from librosa.feature import melspectrogram\n",
        "from librosa.core import load as load_wav\n",
        "from librosa import power_to_db\n",
        "\n",
        "from torchvision.models import wide_resnet50_2\n",
        "import torch\n",
        "import torch.nn as nn\n",
        "import torch.optim as optim"
      ],
      "metadata": {
        "id": "2Sht4DZQJhYt"
      },
      "execution_count": null,
      "outputs": []
    },
    {
      "cell_type": "code",
      "source": [
        "import soundfile as sf\n",
        "import torch.nn.functional as F"
      ],
      "metadata": {
        "id": "4eUBMqYi6QVI"
      },
      "execution_count": null,
      "outputs": []
    },
    {
      "cell_type": "code",
      "source": [
        "path  = 'D:/Downloads/all_folders/'\n",
        "path_df = 'D:/Downloads/'"
      ],
      "metadata": {
        "id": "sCJMuLzkNrtB"
      },
      "execution_count": null,
      "outputs": []
    },
    {
      "cell_type": "markdown",
      "source": [
        "#Подготовка датасета + анализ данных"
      ],
      "metadata": {
        "id": "b6avqhMBnhDe"
      }
    },
    {
      "cell_type": "code",
      "source": [
        "df = pd.read_table(path_df+'speakers.tsv')\n",
        "df.columns = ['GENDER', 'SUBSET', 'NAME']\n",
        "df['READER'] = df.index\n",
        "df.head()"
      ],
      "metadata": {
        "colab": {
          "base_uri": "https://localhost:8080/",
          "height": 206
        },
        "id": "F0EhKxMAuHNq",
        "outputId": "10b89b00-0b98-415a-89cd-47292a795f2b"
      },
      "execution_count": null,
      "outputs": [
        {
          "output_type": "execute_result",
          "data": {
            "text/plain": [
              "   GENDER           SUBSET              NAME  READER\n",
              "14      F  train-clean-360   Kristin LeMoine      14\n",
              "16      F  train-clean-360    Alys AtteWater      16\n",
              "17      M  train-clean-360    Gord Mackenzie      17\n",
              "19      F  train-clean-100  Kara Shallenberg      19\n",
              "20      F  train-other-500            Gesine      20"
            ],
            "text/html": [
              "<div>\n",
              "<style scoped>\n",
              "    .dataframe tbody tr th:only-of-type {\n",
              "        vertical-align: middle;\n",
              "    }\n",
              "\n",
              "    .dataframe tbody tr th {\n",
              "        vertical-align: top;\n",
              "    }\n",
              "\n",
              "    .dataframe thead th {\n",
              "        text-align: right;\n",
              "    }\n",
              "</style>\n",
              "<table border=\"1\" class=\"dataframe\">\n",
              "  <thead>\n",
              "    <tr style=\"text-align: right;\">\n",
              "      <th></th>\n",
              "      <th>GENDER</th>\n",
              "      <th>SUBSET</th>\n",
              "      <th>NAME</th>\n",
              "      <th>READER</th>\n",
              "    </tr>\n",
              "  </thead>\n",
              "  <tbody>\n",
              "    <tr>\n",
              "      <th>14</th>\n",
              "      <td>F</td>\n",
              "      <td>train-clean-360</td>\n",
              "      <td>Kristin LeMoine</td>\n",
              "      <td>14</td>\n",
              "    </tr>\n",
              "    <tr>\n",
              "      <th>16</th>\n",
              "      <td>F</td>\n",
              "      <td>train-clean-360</td>\n",
              "      <td>Alys AtteWater</td>\n",
              "      <td>16</td>\n",
              "    </tr>\n",
              "    <tr>\n",
              "      <th>17</th>\n",
              "      <td>M</td>\n",
              "      <td>train-clean-360</td>\n",
              "      <td>Gord Mackenzie</td>\n",
              "      <td>17</td>\n",
              "    </tr>\n",
              "    <tr>\n",
              "      <th>19</th>\n",
              "      <td>F</td>\n",
              "      <td>train-clean-100</td>\n",
              "      <td>Kara Shallenberg</td>\n",
              "      <td>19</td>\n",
              "    </tr>\n",
              "    <tr>\n",
              "      <th>20</th>\n",
              "      <td>F</td>\n",
              "      <td>train-other-500</td>\n",
              "      <td>Gesine</td>\n",
              "      <td>20</td>\n",
              "    </tr>\n",
              "  </tbody>\n",
              "</table>\n",
              "</div>"
            ]
          },
          "metadata": {},
          "execution_count": 5
        }
      ]
    },
    {
      "cell_type": "code",
      "source": [
        "pairs = [(list(df['READER'])[i], list(df['GENDER'])[i]) for i in range(len(list(df['GENDER'])))]\n",
        "pairs[0]"
      ],
      "metadata": {
        "colab": {
          "base_uri": "https://localhost:8080/"
        },
        "id": "msrttRuew0Tk",
        "outputId": "cfd93fd0-7b02-4267-c6cf-920008a3c01f"
      },
      "execution_count": null,
      "outputs": [
        {
          "output_type": "execute_result",
          "data": {
            "text/plain": [
              "(14, 'F')"
            ]
          },
          "metadata": {},
          "execution_count": 6
        }
      ]
    },
    {
      "cell_type": "markdown",
      "source": [
        "Проходимся по папкам соответствующих людей, составляем новый датафрейм \"путь - метка\""
      ],
      "metadata": {
        "id": "gHkdeNI5nvnj"
      }
    },
    {
      "cell_type": "code",
      "source": [
        "from tqdm import tqdm\n",
        "new_df = pd.DataFrame(columns=['path', 'target'])\n",
        "idx = 0\n",
        "for i in tqdm(range(len(pairs))):\n",
        "  for folder in list(os.walk(path+str(pairs[i][0]))):\n",
        "    for elem in folder[2]:\n",
        "      if re.fullmatch('.*wav', elem):\n",
        "        new_df.loc[idx] = [path + str(pairs[i][0]) +'/'+elem, pairs[i][1]]\n",
        "        idx += 1\n",
        "        break  #Берем по одному файлу из каждой папки, иначе датасет очень большой"
      ],
      "metadata": {
        "colab": {
          "base_uri": "https://localhost:8080/"
        },
        "id": "3NOm3ueLyc4x",
        "outputId": "d7801167-d111-40e5-891a-e64f08d19f9d"
      },
      "execution_count": null,
      "outputs": [
        {
          "output_type": "stream",
          "name": "stderr",
          "text": [
            "100%|██████████████████████████████████████████████████████████████████████████████████████████████████████████████| 2484/2484 [04:06<00:00, 10.09it/s]\n"
          ]
        }
      ]
    },
    {
      "cell_type": "code",
      "source": [
        "print('Размер Датасета:', new_df.shape[0])"
      ],
      "metadata": {
        "colab": {
          "base_uri": "https://localhost:8080/"
        },
        "id": "7HVLLvEEN1_V",
        "outputId": "9e5bd16e-1108-42c0-fe37-2b4fb0db05e3"
      },
      "execution_count": null,
      "outputs": [
        {
          "output_type": "stream",
          "name": "stdout",
          "text": [
            "Размер Датасета: 5568\n"
          ]
        }
      ]
    },
    {
      "cell_type": "markdown",
      "source": [
        "Преобразование меток в 0, 1"
      ],
      "metadata": {
        "id": "Dywlhw7VoMi0"
      }
    },
    {
      "cell_type": "code",
      "source": [
        "new_df['target'] = new_df['target'].apply(lambda x: 0 if str(x).lower()=='f' else (1 if str(x).lower()=='m' else None))\n",
        "new_df.head()"
      ],
      "metadata": {
        "colab": {
          "base_uri": "https://localhost:8080/",
          "height": 206
        },
        "id": "jbmjSTne2J2g",
        "outputId": "952b0664-5719-41a5-f8b4-e08b593379d4"
      },
      "execution_count": null,
      "outputs": [
        {
          "output_type": "execute_result",
          "data": {
            "text/plain": [
              "                                                path  target\n",
              "0  D:/Downloads/all_folders/14/14_208_000001_0000...       0\n",
              "1  D:/Downloads/all_folders/14/14_212_000006_0000...       0\n",
              "2  D:/Downloads/all_folders/16/16_122827_000000_0...       0\n",
              "3  D:/Downloads/all_folders/16/16_122828_000000_0...       0\n",
              "4  D:/Downloads/all_folders/17/17_362_000000_0000...       1"
            ],
            "text/html": [
              "<div>\n",
              "<style scoped>\n",
              "    .dataframe tbody tr th:only-of-type {\n",
              "        vertical-align: middle;\n",
              "    }\n",
              "\n",
              "    .dataframe tbody tr th {\n",
              "        vertical-align: top;\n",
              "    }\n",
              "\n",
              "    .dataframe thead th {\n",
              "        text-align: right;\n",
              "    }\n",
              "</style>\n",
              "<table border=\"1\" class=\"dataframe\">\n",
              "  <thead>\n",
              "    <tr style=\"text-align: right;\">\n",
              "      <th></th>\n",
              "      <th>path</th>\n",
              "      <th>target</th>\n",
              "    </tr>\n",
              "  </thead>\n",
              "  <tbody>\n",
              "    <tr>\n",
              "      <th>0</th>\n",
              "      <td>D:/Downloads/all_folders/14/14_208_000001_0000...</td>\n",
              "      <td>0</td>\n",
              "    </tr>\n",
              "    <tr>\n",
              "      <th>1</th>\n",
              "      <td>D:/Downloads/all_folders/14/14_212_000006_0000...</td>\n",
              "      <td>0</td>\n",
              "    </tr>\n",
              "    <tr>\n",
              "      <th>2</th>\n",
              "      <td>D:/Downloads/all_folders/16/16_122827_000000_0...</td>\n",
              "      <td>0</td>\n",
              "    </tr>\n",
              "    <tr>\n",
              "      <th>3</th>\n",
              "      <td>D:/Downloads/all_folders/16/16_122828_000000_0...</td>\n",
              "      <td>0</td>\n",
              "    </tr>\n",
              "    <tr>\n",
              "      <th>4</th>\n",
              "      <td>D:/Downloads/all_folders/17/17_362_000000_0000...</td>\n",
              "      <td>1</td>\n",
              "    </tr>\n",
              "  </tbody>\n",
              "</table>\n",
              "</div>"
            ]
          },
          "metadata": {},
          "execution_count": 10
        }
      ]
    },
    {
      "cell_type": "code",
      "source": [
        "new_df.to_csv(path_df+'data2')"
      ],
      "metadata": {
        "id": "5WHvpmzcFUwq"
      },
      "execution_count": null,
      "outputs": []
    },
    {
      "cell_type": "code",
      "source": [
        "df = pd.read_csv(path_df+'data2')[['path', 'target']]\n",
        "df.head()"
      ],
      "metadata": {
        "colab": {
          "base_uri": "https://localhost:8080/",
          "height": 206
        },
        "id": "Lv8x7wuEFhka",
        "outputId": "d361cd56-e0e6-44fc-c78f-e69a5c3c1da8"
      },
      "execution_count": null,
      "outputs": [
        {
          "output_type": "execute_result",
          "data": {
            "text/plain": [
              "                                                path  target\n",
              "0  D:/Downloads/all_folders/14/14_208_000001_0000...       0\n",
              "1  D:/Downloads/all_folders/14/14_212_000006_0000...       0\n",
              "2  D:/Downloads/all_folders/16/16_122827_000000_0...       0\n",
              "3  D:/Downloads/all_folders/16/16_122828_000000_0...       0\n",
              "4  D:/Downloads/all_folders/17/17_362_000000_0000...       1"
            ],
            "text/html": [
              "<div>\n",
              "<style scoped>\n",
              "    .dataframe tbody tr th:only-of-type {\n",
              "        vertical-align: middle;\n",
              "    }\n",
              "\n",
              "    .dataframe tbody tr th {\n",
              "        vertical-align: top;\n",
              "    }\n",
              "\n",
              "    .dataframe thead th {\n",
              "        text-align: right;\n",
              "    }\n",
              "</style>\n",
              "<table border=\"1\" class=\"dataframe\">\n",
              "  <thead>\n",
              "    <tr style=\"text-align: right;\">\n",
              "      <th></th>\n",
              "      <th>path</th>\n",
              "      <th>target</th>\n",
              "    </tr>\n",
              "  </thead>\n",
              "  <tbody>\n",
              "    <tr>\n",
              "      <th>0</th>\n",
              "      <td>D:/Downloads/all_folders/14/14_208_000001_0000...</td>\n",
              "      <td>0</td>\n",
              "    </tr>\n",
              "    <tr>\n",
              "      <th>1</th>\n",
              "      <td>D:/Downloads/all_folders/14/14_212_000006_0000...</td>\n",
              "      <td>0</td>\n",
              "    </tr>\n",
              "    <tr>\n",
              "      <th>2</th>\n",
              "      <td>D:/Downloads/all_folders/16/16_122827_000000_0...</td>\n",
              "      <td>0</td>\n",
              "    </tr>\n",
              "    <tr>\n",
              "      <th>3</th>\n",
              "      <td>D:/Downloads/all_folders/16/16_122828_000000_0...</td>\n",
              "      <td>0</td>\n",
              "    </tr>\n",
              "    <tr>\n",
              "      <th>4</th>\n",
              "      <td>D:/Downloads/all_folders/17/17_362_000000_0000...</td>\n",
              "      <td>1</td>\n",
              "    </tr>\n",
              "  </tbody>\n",
              "</table>\n",
              "</div>"
            ]
          },
          "metadata": {},
          "execution_count": 67
        }
      ]
    },
    {
      "cell_type": "code",
      "source": [
        "new_df['target'].value_counts()"
      ],
      "metadata": {
        "colab": {
          "base_uri": "https://localhost:8080/"
        },
        "id": "ez-eS0FfV1Cb",
        "outputId": "d4db69d8-3b90-4d3b-a812-c79a9503c3d7"
      },
      "execution_count": null,
      "outputs": [
        {
          "output_type": "execute_result",
          "data": {
            "text/plain": [
              "1    2843\n",
              "0    2725\n",
              "Name: target, dtype: int64"
            ]
          },
          "metadata": {},
          "execution_count": 15
        }
      ]
    },
    {
      "cell_type": "code",
      "source": [
        "new_df.dropna(inplace=True)"
      ],
      "metadata": {
        "id": "BDaUnzg9Jjgk"
      },
      "execution_count": null,
      "outputs": []
    },
    {
      "cell_type": "markdown",
      "source": [
        "небольшой фикс путей к файлам в датасете"
      ],
      "metadata": {
        "id": "2UQq4I-yot0w"
      }
    },
    {
      "cell_type": "code",
      "source": [
        "fixed_path = []\n",
        "for elem in list(new_df['path']):\n",
        "  s = elem.split('/')\n",
        "  s.insert(-1, s[-1].split('_')[1])\n",
        "  fixed_path.append('/'.join(s))\n",
        "new_df['path'] = fixed_path"
      ],
      "metadata": {
        "id": "Y_iGDVoHHK-g"
      },
      "execution_count": null,
      "outputs": []
    },
    {
      "cell_type": "markdown",
      "source": [
        "Проверка на сбалансированность классов"
      ],
      "metadata": {
        "id": "0GuMotUPnZ_3"
      }
    },
    {
      "cell_type": "code",
      "source": [
        "plt.figure(figsize=(12,5))\n",
        "labels =['Женщина', 'Мужчина']\n",
        "myexplode = [0.2, 0]\n",
        "plt.pie(list(new_df['target'].value_counts()), labels=labels, shadow=True,\n",
        "        explode = myexplode,startangle=90)\n",
        "plt.legend()\n",
        "\n",
        "plt.title(\"Баланс классов\")\n",
        "plt.show()"
      ],
      "metadata": {
        "colab": {
          "base_uri": "https://localhost:8080/",
          "height": 319
        },
        "id": "cgz9YejsATBA",
        "outputId": "82cef8b3-4a04-473d-8150-2fba4868903a"
      },
      "execution_count": null,
      "outputs": [
        {
          "output_type": "display_data",
          "data": {
            "text/plain": [
              "<Figure size 864x360 with 1 Axes>"
            ],
            "image/png": "[encoded data removed]"
          },
          "metadata": {}
        }
      ]
    },
    {
      "cell_type": "markdown",
      "source": [
        "как можно видеть, классы неплохо сбалансированы"
      ],
      "metadata": {
        "id": "FY3leOs40Pfd"
      }
    },
    {
      "cell_type": "markdown",
      "source": [
        "Пример вывода спектрограммы "
      ],
      "metadata": {
        "id": "F--QwutAswBR"
      }
    },
    {
      "cell_type": "code",
      "source": [
        "sample_rate = 11025\n",
        "fft_size = 1024\n",
        "overlap = 4\n",
        "hop = fft_size // overlap\n",
        "mels = 64"
      ],
      "metadata": {
        "id": "gMaghhJcsqwD"
      },
      "execution_count": null,
      "outputs": []
    },
    {
      "cell_type": "code",
      "source": [
        "wav_data, sr = load_wav(new_df['path'][0])"
      ],
      "metadata": {
        "id": "5y-Qx-bloEEF"
      },
      "execution_count": null,
      "outputs": []
    },
    {
      "cell_type": "code",
      "source": [
        "mel_spec = melspectrogram(wav_data, n_fft=fft_size, hop_length=hop, n_mels=mels, \n",
        "                          fmax=sr//2)\n",
        "plt.figure(figsize=(10, 4))\n",
        "colors = 'viridis'\n",
        "specshow(mel_spec, y_axis='mel', fmax=sample_rate//2, x_axis='time', cmap=colors)\n",
        "plt.colorbar(format='%+2.0f дБ')\n",
        "plt.title('Мелспектрограмма')\n",
        "plt.tight_layout()\n",
        "plt.show()\n",
        "\n",
        "plt.figure(figsize=(10, 4))\n",
        "specshow(power_to_db(mel_spec, ref=np.max), y_axis='mel',\n",
        "         fmax=sample_rate//2, x_axis='time', cmap=colors)\n",
        "plt.colorbar(format='%+2.0f дБ')\n",
        "plt.title('Логарифм мелспектрограммы')\n",
        "plt.tight_layout()\n",
        "plt.show()"
      ],
      "metadata": {
        "colab": {
          "base_uri": "https://localhost:8080/",
          "height": 649
        },
        "id": "Wx3_i1_zrZ1y",
        "outputId": "4b7f35f3-34fa-480c-c8be-ab2fd3773a98"
      },
      "execution_count": null,
      "outputs": [
        {
          "output_type": "stream",
          "name": "stderr",
          "text": [
            "c:\\users\\michel\\appdata\\roaming\\jetbrains\\dataspell2021.3\\projects\\workspace\\venv\\lib\\site-packages\\ipykernel_launcher.py:2: FutureWarning: Pass y=[ 2.29028810e-05  1.18676406e-04 -1.27922540e-04 ... -3.28745204e-03\n",
            " -3.17329471e-03 -3.05037317e-03] as keyword args. From version 0.10 passing these as positional arguments will result in an error\n",
            "  \n"
          ]
        },
        {
          "output_type": "display_data",
          "data": {
            "text/plain": [
              "<Figure size 720x288 with 2 Axes>"
            ],
            "image/png": "[encoded data removed]"
          },
          "metadata": {
            "needs_background": "light"
          }
        },
        {
          "output_type": "display_data",
          "data": {
            "text/plain": [
              "<Figure size 720x288 with 2 Axes>"
            ],
            "image/png": "[encoded data removed]"
          },
          "metadata": {
            "needs_background": "light"
          }
        }
      ]
    },
    {
      "cell_type": "code",
      "source": [
        "file_paths = list(new_df['path'])\n",
        "n_files = len(file_paths)\n",
        "labels = list(new_df['target']) \n",
        "out_path = 'df_pickle'\n",
        "feats = []\n",
        "\n",
        "for i, (file_path, label) in tqdm(enumerate(zip(file_paths, labels))):\n",
        "  try:\n",
        "    wav_data, sr = load_wav(file_path, sr=sr)\n",
        "    mel_spec = melspectrogram(wav_data, n_fft=fft_size, hop_length=hop, n_mels=mels, fmax=sr // 2)\n",
        "    \n",
        "    log_mel_spec = power_to_db(mel_spec, ref = np.max)\n",
        "    feats.append({\n",
        "      'file_path': file_path,\n",
        "      'feature': log_mel_spec,\n",
        "      'label': label\n",
        "    })\n",
        "  except:\n",
        "    pass\n",
        "feats = sorted(feats, key=lambda item: item[\"file_path\"]) \n",
        "pickle.dump(feats, open(path_df+out_path, 'wb'))"
      ],
      "metadata": {
        "id": "LgPLJ1knshv2"
      },
      "execution_count": null,
      "outputs": []
    },
    {
      "cell_type": "markdown",
      "source": [
        "#Строим модель"
      ],
      "metadata": {
        "id": "i8M0wPKcdLuC"
      }
    },
    {
      "cell_type": "code",
      "source": [
        "sample_rate = 11025\n",
        "fft_size = 1024\n",
        "overlap = 4\n",
        "hop = fft_size // overlap\n",
        "mels = 64"
      ],
      "metadata": {
        "id": "jDII9WTk9ngV"
      },
      "execution_count": null,
      "outputs": []
    },
    {
      "cell_type": "code",
      "source": [
        "if torch.cuda.is_available():\n",
        "  device = torch.device('cuda:0')\n",
        "else:\n",
        "  device = torch.device('cpu')"
      ],
      "metadata": {
        "id": "JNrhQf_S9tGJ"
      },
      "execution_count": null,
      "outputs": []
    },
    {
      "cell_type": "markdown",
      "source": [
        "в качестве модели использовал предобученный ResNet"
      ],
      "metadata": {
        "id": "UZ6M_pCUnDoO"
      }
    },
    {
      "cell_type": "code",
      "source": [
        "resnet = wide_resnet50_2(pretrained=True)"
      ],
      "metadata": {
        "id": "TmTsLdjsdPxx"
      },
      "execution_count": null,
      "outputs": []
    },
    {
      "cell_type": "code",
      "source": [
        "resnet.fc = nn.Linear(2048, 2)\n",
        "resnet.conv1 = nn.Conv2d(1, 64, kernel_size=(7,7), stride = (2,2), padding = (3,3), bias = False)\n",
        "network = resnet.to(device)"
      ],
      "metadata": {
        "id": "vPgx3RXmdTmt"
      },
      "execution_count": null,
      "outputs": []
    },
    {
      "cell_type": "markdown",
      "source": [
        "#Загружаем данные, разбиваем на Train/Test"
      ],
      "metadata": {
        "id": "fnMRDvM8ewO8"
      }
    },
    {
      "cell_type": "markdown",
      "source": [
        "Тут вместо path_df+out_path прописать путь до df_pickle"
      ],
      "metadata": {
        "id": "5RBMBb3r7aaI"
      }
    },
    {
      "cell_type": "code",
      "source": [
        "pickle_data = pickle.load(open(path_df+out_path, 'rb'))"
      ],
      "metadata": {
        "id": "wmTnw-8hevwQ"
      },
      "execution_count": null,
      "outputs": []
    },
    {
      "cell_type": "markdown",
      "source": [
        "\"подгонка\" размерностей спектрограм "
      ],
      "metadata": {
        "id": "_CI-TWCamkJs"
      }
    },
    {
      "cell_type": "code",
      "source": [
        "def prepare_shape(feature):\n",
        "    tmp = feature\n",
        "    N = 116 \n",
        "    while tmp.shape[1] < N:\n",
        "        tmp = np.hstack((tmp, tmp))\n",
        "    tmp = tmp[np.newaxis, :, :N]\n",
        "    return tmp"
      ],
      "metadata": {
        "id": "LPmUuqOEfCK8"
      },
      "execution_count": null,
      "outputs": []
    },
    {
      "cell_type": "markdown",
      "source": [
        "разбиваем на train/test в отношении 4:1"
      ],
      "metadata": {
        "id": "1hH7kT9Xpts8"
      }
    },
    {
      "cell_type": "code",
      "source": [
        "def data_prepare(data):\n",
        "  x_list = []\n",
        "  y_list = []\n",
        "  for i, row in enumerate(data):\n",
        "    x_list.append(prepare_shape(row['feature']))\n",
        "    y_list.append(row['label'])\n",
        "  return np.asarray(x_list), np.asarray(y_list)"
      ],
      "metadata": {
        "id": "I-_-GlAUs673"
      },
      "execution_count": null,
      "outputs": []
    },
    {
      "cell_type": "code",
      "source": [
        "from sklearn.model_selection import train_test_split\n",
        "\n",
        "data_train, data_test = train_test_split(pickle_data, test_size=0.2, random_state=42)\n",
        "\n",
        "x_tr, y_tr = data_prepare(data_train)\n",
        "x_test, y_test = data_prepare(data_test)"
      ],
      "metadata": {
        "id": "Nr0pA4iDtzP3"
      },
      "execution_count": null,
      "outputs": []
    },
    {
      "cell_type": "markdown",
      "source": [
        "Dataset"
      ],
      "metadata": {
        "id": "_0z-9OI79Wn_"
      }
    },
    {
      "cell_type": "code",
      "source": [
        "from torch.utils.data import Dataset\n",
        "\n",
        "\n",
        "class ClassificationDataset(Dataset):\n",
        "    def __init__(self, x, y):\n",
        "        self.x = x\n",
        "        self.y = y\n",
        "    \n",
        "    def __len__(self):\n",
        "        return len(self.x)\n",
        "\n",
        "    def __getitem__(self, idx):\n",
        "        return self.x[idx], self.y[idx]"
      ],
      "metadata": {
        "id": "pHzVJjVihRBd"
      },
      "execution_count": null,
      "outputs": []
    },
    {
      "cell_type": "code",
      "source": [
        "train_dset = ClassificationDataset(x_tr, y_tr)\n",
        "test_dset = ClassificationDataset(x_test, y_test)"
      ],
      "metadata": {
        "id": "ROT839B6halw"
      },
      "execution_count": null,
      "outputs": []
    },
    {
      "cell_type": "markdown",
      "source": [
        "Еще один пример вывода мелспектрограммы в качестве проверки"
      ],
      "metadata": {
        "id": "4rkhVaSQjeWQ"
      }
    },
    {
      "cell_type": "code",
      "source": [
        "sample_x, sample_y = test_dset[2]\n",
        "plt.figure(figsize=(10, 4))\n",
        "colors = 'viridis'\n",
        "specshow(sample_x[0], y_axis='mel', fmax=sample_rate//2, x_axis='time', cmap=colors)\n",
        "plt.colorbar(format='%+2.0f дБ')\n",
        "plt.title('Мелспектрограмма')\n",
        "plt.tight_layout()\n",
        "plt.show()"
      ],
      "metadata": {
        "colab": {
          "base_uri": "https://localhost:8080/",
          "height": 297
        },
        "id": "s0EJXKA5hq1J",
        "outputId": "fc5fe2fd-6e39-4e2a-c40a-d620892c7f44"
      },
      "execution_count": null,
      "outputs": [
        {
          "output_type": "display_data",
          "data": {
            "text/plain": [
              "<Figure size 720x288 with 2 Axes>"
            ],
            "image/png": "[encoded data removed]"
          },
          "metadata": {
            "needs_background": "light"
          }
        }
      ]
    },
    {
      "cell_type": "markdown",
      "source": [
        "Разбиваем на батчи"
      ],
      "metadata": {
        "id": "CTaq6DCPjYBw"
      }
    },
    {
      "cell_type": "code",
      "source": [
        "from torch.utils.data import DataLoader\n",
        "\n",
        "train_loader = DataLoader(train_dset, batch_size=64, shuffle=True)\n",
        "val_loader = DataLoader(test_dset, batch_size=64, shuffle=False)"
      ],
      "metadata": {
        "id": "b6NszeqphvgM"
      },
      "execution_count": null,
      "outputs": []
    },
    {
      "cell_type": "markdown",
      "source": [
        "В качестве метрики использовал F1 меру "
      ],
      "metadata": {
        "id": "XerXOa2yp9PA"
      }
    },
    {
      "cell_type": "code",
      "source": [
        "from sklearn.metrics import f1_score"
      ],
      "metadata": {
        "id": "_i8g2qiFuYoZ"
      },
      "execution_count": null,
      "outputs": []
    },
    {
      "cell_type": "markdown",
      "source": [
        "Само обучение"
      ],
      "metadata": {
        "id": "0Ul302iejuRs"
      }
    },
    {
      "cell_type": "code",
      "source": [
        "from torch.optim.lr_scheduler import ExponentialLR\n",
        "\n",
        "n_epoch = 35\n",
        "criterion = nn.CrossEntropyLoss()\n",
        "optimizer = optim.AdamW(network.parameters(), lr=0.0001)\n",
        "scheduler = ExponentialLR(optimizer, gamma=0.9) #использование шедуллера немного улучшило результат\n",
        "\n",
        "train_loss = []\n",
        "val_loss = []\n",
        "\n",
        "train_acc = []\n",
        "val_acc = []\n",
        "val_max_acc = 0\n",
        "for e in range(n_epoch):\n",
        "    print('epoch #', e)\n",
        "    # train\n",
        "    loss_list = []\n",
        "    outputs = []\n",
        "    targets = []\n",
        "    for i_batch, sample_batched in enumerate(train_loader):\n",
        "        x, y = sample_batched\n",
        "        x, y = x.cuda(), y.cuda()\n",
        "        optimizer.zero_grad()\n",
        "\n",
        "        output = network(x)\n",
        "        outputs.append(output.cpu().detach().numpy().argmax(axis=1))\n",
        "    \n",
        "        target = y\n",
        "        targets.append(target.cpu().detach().numpy())\n",
        "        \n",
        "        loss = criterion(output, target.long())\n",
        "        loss_list.append(loss.item())\n",
        "        loss.backward()\n",
        "        optimizer.step()\n",
        "    scheduler.step()\n",
        "    y_true = np.hstack(targets)\n",
        "    y_pred = np.hstack(outputs)\n",
        "    acc = f1_score(y_true, y_pred, average='macro')\n",
        "    train_loss.append(np.mean(loss_list))\n",
        "    train_acc.append(acc)\n",
        "    print('mean train loss:', train_loss[-1])\n",
        "    print('train f1:', acc)\n",
        "    \n",
        "    #Test\n",
        "    loss_list = []\n",
        "    outputs = []\n",
        "    targets = []\n",
        "    with torch.no_grad():\n",
        "        for i_batch, sample_batched in enumerate(val_loader):\n",
        "            x, y = sample_batched\n",
        "            x, y = x.cuda(), y.cuda()\n",
        "            output = network(x)\n",
        "            outputs.append(output.cpu().detach().numpy().argmax(axis=1))\n",
        "\n",
        "            target = y\n",
        "            targets.append(target.cpu().detach().numpy())\n",
        "\n",
        "            loss = criterion(output, target.long())\n",
        "            loss_list.append(loss.item())\n",
        "            \n",
        "        y_true = np.hstack(targets)\n",
        "        y_pred = np.hstack(outputs)\n",
        "        acc = f1_score(y_true, y_pred, average='macro')\n",
        "        if acc > val_max_acc:\n",
        "          torch.save(network,'bestmodel.pth')\n",
        "          val_max_acc = acc\n",
        "        val_loss.append(np.mean(loss_list))\n",
        "        val_acc.append(acc)\n",
        "        print('mean val loss:', val_loss[-1])\n",
        "        print('test f1:', acc)\n",
        "        print('#####################################################')"
      ],
      "metadata": {
        "colab": {
          "base_uri": "https://localhost:8080/"
        },
        "id": "ycVvg2OhucXo",
        "outputId": "ee1baf9e-1c1b-4e3a-d12c-b3b0871ec23d"
      },
      "execution_count": null,
      "outputs": [
        {
          "output_type": "stream",
          "name": "stdout",
          "text": [
            "epoch # 0\n",
            "mean train loss: 0.32660085814339773\n",
            "train f1: 0.8637040937148351\n",
            "mean val loss: 0.25728099544843036\n",
            "test f1: 0.9030470646256201\n",
            "#####################################################\n",
            "epoch # 1\n",
            "mean train loss: 0.11174075796401926\n",
            "train f1: 0.9638430040114887\n",
            "mean val loss: 0.24315564334392548\n",
            "test f1: 0.9146638928198492\n",
            "#####################################################\n",
            "epoch # 2\n",
            "mean train loss: 0.02567181870274778\n",
            "train f1: 0.9930382933195115\n",
            "mean val loss: 0.29808535137110287\n",
            "test f1: 0.9200375512034371\n",
            "#####################################################\n",
            "epoch # 3\n",
            "mean train loss: 0.005972090941421422\n",
            "train f1: 0.9993262671554936\n",
            "mean val loss: 0.324009258300066\n",
            "test f1: 0.9227200129063483\n",
            "#####################################################\n",
            "epoch # 4\n",
            "mean train loss: 0.001791495192446746\n",
            "train f1: 0.9997754223851645\n",
            "mean val loss: 0.3468666113913059\n",
            "test f1: 0.9226800962019596\n",
            "#####################################################\n",
            "epoch # 5\n",
            "mean train loss: 0.002487024628914826\n",
            "train f1: 0.9995508414411798\n",
            "mean val loss: 0.3512190708683597\n",
            "test f1: 0.9172343841355675\n",
            "#####################################################\n",
            "epoch # 6\n",
            "mean train loss: 0.0022382539541078066\n",
            "train f1: 0.9997754190333428\n",
            "mean val loss: 0.35419753318031627\n",
            "test f1: 0.9173547854359663\n",
            "#####################################################\n",
            "epoch # 7\n",
            "mean train loss: 0.0008684277033483211\n",
            "train f1: 1.0\n",
            "mean val loss: 0.3594997574885686\n",
            "test f1: 0.9209847566480102\n",
            "#####################################################\n",
            "epoch # 8\n",
            "mean train loss: 0.0014368674067165037\n",
            "train f1: 0.9995508414411798\n",
            "mean val loss: 0.3557793034447564\n",
            "test f1: 0.9146715989379706\n",
            "#####################################################\n",
            "epoch # 9\n",
            "mean train loss: 0.0009634452778430257\n",
            "train f1: 0.9997754223851645\n",
            "mean val loss: 0.36580169283681446\n",
            "test f1: 0.9209847566480102\n",
            "#####################################################\n",
            "epoch # 10\n",
            "mean train loss: 0.0017956708016364637\n",
            "train f1: 0.9993262571000285\n",
            "mean val loss: 0.3680119315783183\n",
            "test f1: 0.9164679863287502\n",
            "#####################################################\n",
            "epoch # 11\n",
            "mean train loss: 0.0009218552309903316\n",
            "train f1: 1.0\n",
            "mean val loss: 0.3391545307305124\n",
            "test f1: 0.925461942961804\n",
            "#####################################################\n",
            "epoch # 12\n",
            "mean train loss: 0.0005105920529916018\n",
            "train f1: 1.0\n",
            "mean val loss: 0.3383222421010335\n",
            "test f1: 0.9272397401937662\n",
            "#####################################################\n",
            "epoch # 13\n",
            "mean train loss: 0.00028633294953449095\n",
            "train f1: 1.0\n",
            "mean val loss: 0.3404230202237765\n",
            "test f1: 0.9272463106734276\n",
            "#####################################################\n",
            "epoch # 14\n",
            "mean train loss: 0.0003733968136657495\n",
            "train f1: 1.0\n",
            "mean val loss: 0.3441996168759134\n",
            "test f1: 0.9227648699633995\n",
            "#####################################################\n",
            "epoch # 15\n",
            "mean train loss: 0.00020621783239351186\n",
            "train f1: 1.0\n",
            "mean val loss: 0.34588800370693207\n",
            "test f1: 0.9227648699633995\n",
            "#####################################################\n",
            "epoch # 16\n",
            "mean train loss: 0.00017481296599726194\n",
            "train f1: 1.0\n",
            "mean val loss: 0.34798704129126334\n",
            "test f1: 0.9218697474418909\n",
            "#####################################################\n",
            "epoch # 17\n",
            "mean train loss: 0.0001685092741744094\n",
            "train f1: 1.0\n",
            "mean val loss: 0.35003399724761647\n",
            "test f1: 0.9227648699633995\n",
            "#####################################################\n",
            "epoch # 18\n",
            "mean train loss: 0.0002549920976369841\n",
            "train f1: 1.0\n",
            "mean val loss: 0.35095196838180226\n",
            "test f1: 0.9227446907336205\n",
            "#####################################################\n",
            "epoch # 19\n",
            "mean train loss: 0.0002637693395497211\n",
            "train f1: 1.0\n",
            "mean val loss: 0.3548738873667187\n",
            "test f1: 0.9254672303928484\n",
            "#####################################################\n",
            "epoch # 20\n",
            "mean train loss: 0.00014461929921318577\n",
            "train f1: 1.0\n",
            "mean val loss: 0.35579806980159545\n",
            "test f1: 0.9254672303928484\n",
            "#####################################################\n",
            "epoch # 21\n",
            "mean train loss: 0.00016709993734756218\n",
            "train f1: 1.0\n",
            "mean val loss: 0.3542555611994531\n",
            "test f1: 0.9254672303928484\n",
            "#####################################################\n",
            "epoch # 22\n",
            "mean train loss: 0.00013324953683227899\n",
            "train f1: 1.0\n",
            "mean val loss: 0.3572109060155021\n",
            "test f1: 0.9254720364974388\n",
            "#####################################################\n",
            "epoch # 23\n",
            "mean train loss: 0.00014007643206111556\n",
            "train f1: 1.0\n",
            "mean val loss: 0.3586641802555985\n",
            "test f1: 0.9254720364974388\n",
            "#####################################################\n",
            "epoch # 24\n",
            "mean train loss: 0.0001704271213384345\n",
            "train f1: 1.0\n",
            "mean val loss: 0.35870973186360466\n",
            "test f1: 0.9263676490976916\n",
            "#####################################################\n",
            "epoch # 25\n",
            "mean train loss: 0.00010930616309841363\n",
            "train f1: 1.0\n",
            "mean val loss: 0.3594955744014846\n",
            "test f1: 0.9263676490976916\n",
            "#####################################################\n",
            "epoch # 26\n",
            "mean train loss: 9.454925597570503e-05\n",
            "train f1: 1.0\n",
            "mean val loss: 0.3601188411315282\n",
            "test f1: 0.9263676490976916\n",
            "#####################################################\n",
            "epoch # 27\n",
            "mean train loss: 0.0001287619815099918\n",
            "train f1: 1.0\n",
            "mean val loss: 0.3606507856812742\n",
            "test f1: 0.9263676490976916\n",
            "#####################################################\n",
            "epoch # 28\n",
            "mean train loss: 0.000102933033122099\n",
            "train f1: 1.0\n",
            "mean val loss: 0.36091933565007317\n",
            "test f1: 0.9263676490976916\n",
            "#####################################################\n",
            "epoch # 29\n",
            "mean train loss: 0.00011666574573609978\n",
            "train f1: 1.0\n",
            "mean val loss: 0.3610936245984501\n",
            "test f1: 0.9263676490976916\n",
            "#####################################################\n",
            "epoch # 30\n",
            "mean train loss: 9.671589780607194e-05\n",
            "train f1: 1.0\n",
            "mean val loss: 0.3615319745408164\n",
            "test f1: 0.9263676490976916\n",
            "#####################################################\n",
            "epoch # 31\n",
            "mean train loss: 0.00010206475105535771\n",
            "train f1: 1.0\n",
            "mean val loss: 0.36199186452560955\n",
            "test f1: 0.9263676490976916\n",
            "#####################################################\n",
            "epoch # 32\n",
            "mean train loss: 8.841519619246745e-05\n",
            "train f1: 1.0\n",
            "mean val loss: 0.3624366360406081\n",
            "test f1: 0.9263676490976916\n",
            "#####################################################\n",
            "epoch # 33\n",
            "mean train loss: 0.00011677151472083226\n",
            "train f1: 1.0\n",
            "mean val loss: 0.3627704303297732\n",
            "test f1: 0.9263676490976916\n",
            "#####################################################\n",
            "epoch # 34\n",
            "mean train loss: 8.598269401513139e-05\n",
            "train f1: 1.0\n",
            "mean val loss: 0.3630124351216687\n",
            "test f1: 0.9263676490976916\n",
            "#####################################################\n"
          ]
        }
      ]
    },
    {
      "cell_type": "markdown",
      "source": [
        "Лучшее качество"
      ],
      "metadata": {
        "id": "QY1HvM2Vkodu"
      }
    },
    {
      "cell_type": "code",
      "source": [
        "print('max F1:', val_max_acc)"
      ],
      "metadata": {
        "colab": {
          "base_uri": "https://localhost:8080/"
        },
        "id": "8iOvU8T1eI6H",
        "outputId": "4b770048-5ac5-4fe2-e41d-284a97577510"
      },
      "execution_count": null,
      "outputs": [
        {
          "output_type": "stream",
          "name": "stdout",
          "text": [
            "max F1: 0.9272463106734276\n"
          ]
        }
      ]
    },
    {
      "cell_type": "code",
      "source": [
        "network = torch.load('bestmodel.pth')"
      ],
      "metadata": {
        "id": "lK_TOGdIuhJ4"
      },
      "execution_count": null,
      "outputs": []
    },
    {
      "cell_type": "markdown",
      "source": [
        "#Вывод графиков лосса и метрики соответственно"
      ],
      "metadata": {
        "id": "eOoDgSDjj4hm"
      }
    },
    {
      "cell_type": "code",
      "source": [
        "epochs = np.arange(1, n_epoch+1)\n",
        "\n",
        "plt.figure(figsize=(12,10))\n",
        "axes = plt.gca()\n",
        "axes.set_ylim([0,max(max(train_loss), max(val_loss))+1])\n",
        "plt.plot(epochs, train_loss, 'r', label='train')\n",
        "plt.plot(epochs, val_loss, 'b', label='val')\n",
        "plt.title('loss')\n",
        "plt.xlabel('epoch number')\n",
        "plt.ylabel('loss value')\n",
        "plt.legend()\n",
        "plt.grid()\n",
        "plt.show()"
      ],
      "metadata": {
        "colab": {
          "base_uri": "https://localhost:8080/",
          "height": 621
        },
        "id": "n1afzMhdXF0W",
        "outputId": "79402859-a17f-4a93-d8bb-10a2c54b84a1"
      },
      "execution_count": null,
      "outputs": [
        {
          "output_type": "display_data",
          "data": {
            "text/plain": [
              "<Figure size 864x720 with 1 Axes>"
            ],
            "image/png": "[encoded data removed]"
          },
          "metadata": {
            "needs_background": "light"
          }
        }
      ]
    },
    {
      "cell_type": "code",
      "source": [
        "plt.figure(figsize=(12,10))\n",
        "axes = plt.gca()\n",
        "axes.set_ylim([0,1])\n",
        "plt.plot(epochs, train_acc, 'r', label='train')\n",
        "plt.plot(epochs, val_acc, 'b', label='val')\n",
        "plt.title('accuracy')\n",
        "plt.xlabel('epoch number')\n",
        "plt.ylabel('accuracy value')\n",
        "plt.legend()\n",
        "plt.grid()\n",
        "plt.show()"
      ],
      "metadata": {
        "colab": {
          "base_uri": "https://localhost:8080/",
          "height": 621
        },
        "id": "N1VgeRGWXNs9",
        "outputId": "13ca3e5e-6660-433e-8abc-3c9bb1c70ff1"
      },
      "execution_count": null,
      "outputs": [
        {
          "output_type": "display_data",
          "data": {
            "text/plain": [
              "<Figure size 864x720 with 1 Axes>"
            ],
            "image/png": "[encoded data removed]"
          },
          "metadata": {
            "needs_background": "light"
          }
        }
      ]
    },
    {
      "cell_type": "markdown",
      "source": [
        "Как можно видеть, в районе 5й эпохи лосс и качество перестают сильно меняться"
      ],
      "metadata": {
        "id": "0qzlz-YP1y_E"
      }
    },
    {
      "cell_type": "markdown",
      "source": [
        "#Выводы:\n",
        "\n",
        "\n",
        "1.   Дообученная модель ResNet показала качество F1 = 0.93\n",
        "2.   Можно улучшить качество путем добавления большего количества данных в наш датасет (всего дорожек в районе 400к, я же использовал всего около 5к\n",
        "3. Также можно попробовать улучшить качество модели с помощью использования методанных о каждом человеке, cодержащиеся в LibriTTS\n",
        "\n"
      ],
      "metadata": {
        "id": "9u7n_SrsqXgK"
      }
    },
    {
      "cell_type": "code",
      "source": [],
      "metadata": {
        "id": "uB8qflg8kLDA"
      },
      "execution_count": null,
      "outputs": []
    }
  ],
  "metadata": {
    "kernelspec": {
      "display_name": "Python 3",
      "language": "python",
      "name": "python3"
    },
    "language_info": {
      "codemirror_mode": {
        "name": "ipython",
        "version": 2
      },
      "file_extension": ".py",
      "mimetype": "text/x-python",
      "name": "python",
      "nbconvert_exporter": "python",
      "pygments_lexer": "ipython2",
      "version": "2.7.6"
    },
    "colab": {
      "provenance": [],
      "collapsed_sections": []
    }
  },
  "nbformat": 4,
  "nbformat_minor": 0
}